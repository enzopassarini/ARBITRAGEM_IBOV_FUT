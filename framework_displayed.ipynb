{
 "cells": [
  {
   "cell_type": "markdown",
   "metadata": {},
   "source": [
    "## Importing Packages"
   ]
  },
  {
   "cell_type": "code",
   "execution_count": 8,
   "metadata": {},
   "outputs": [],
   "source": [
    "import ibov_arb\n",
    "import pandas as pd\n",
    "import datetime\n",
    "import time\n",
    "from IPython.display import clear_output"
   ]
  },
  {
   "cell_type": "markdown",
   "metadata": {},
   "source": [
    "## Basic Settings"
   ]
  },
  {
   "cell_type": "markdown",
   "metadata": {},
   "source": [
    "Connecting to MT5"
   ]
  },
  {
   "cell_type": "code",
   "execution_count": null,
   "metadata": {},
   "outputs": [],
   "source": [
    "LOGIN = \"\"\n",
    "SENHA = \"\"\n",
    "SERVIDOR = \"\"\n",
    "\n",
    "ibov_arb.mt5_connect(login=LOGIN, password=SENHA, server=SERVIDOR)"
   ]
  },
  {
   "cell_type": "markdown",
   "metadata": {},
   "source": [
    "Extracting IBOVESPA data"
   ]
  },
  {
   "cell_type": "code",
   "execution_count": 4,
   "metadata": {},
   "outputs": [],
   "source": [
    "composic_ibov = ibov_arb.comp_ibov_hoje()[0]\n",
    "redutor = ibov_arb.comp_ibov_hoje()[1]\n",
    "ibov_arb.open_ibov_tickers(composic_ibov)"
   ]
  },
  {
   "cell_type": "markdown",
   "metadata": {},
   "source": [
    "Dates used for DI interpolation and SPOT carrying"
   ]
  },
  {
   "cell_type": "code",
   "execution_count": 5,
   "metadata": {},
   "outputs": [],
   "source": [
    "nat_hol = pd.read_excel(\"feriados_nacionais_anbima.xlsx\")\n",
    "\n",
    "today_date = datetime.date.today()\n",
    "expiry_date = ibov_arb.find_expiry_day(holidays=nat_hol)\n",
    "\n",
    "first_B_N = ibov_arb.first_b_day_nextM(date=today_date, holidays=nat_hol)\n",
    "first_B_N_next = ibov_arb.first_b_day_nextM(date=expiry_date, holidays=nat_hol)\n",
    "\n",
    "first_leg = ibov_arb.business_days_bet(start=first_B_N, end=expiry_date, holidays=nat_hol) \n",
    "second_leg = ibov_arb.business_days_bet(start=expiry_date, end=first_B_N_next, holidays=nat_hol) \n",
    "total_days = first_leg + second_leg\n",
    "\n",
    "dist_expiry = ibov_arb.business_days_bet(start=today_date, end=expiry_date, holidays=nat_hol)"
   ]
  },
  {
   "cell_type": "markdown",
   "metadata": {},
   "source": [
    "Final Parameters"
   ]
  },
  {
   "cell_type": "code",
   "execution_count": 6,
   "metadata": {},
   "outputs": [],
   "source": [
    "DI1_ticker = \"DI1Z23\"\n",
    "DI2_ticker = \"DI1F24\"\n",
    "current_ibov_fut = \"WINZ23\"\n",
    "\n",
    "for i in [DI1_ticker, DI2_ticker, current_ibov_fut]:\n",
    "    ibov_arb.OpenTicker(i)"
   ]
  },
  {
   "cell_type": "markdown",
   "metadata": {},
   "source": [
    "## Main Execution"
   ]
  },
  {
   "cell_type": "code",
   "execution_count": null,
   "metadata": {},
   "outputs": [],
   "source": [
    "while True:\n",
    "    risk_free_factor = ibov_arb.get_interp_DI_FACTOR(\n",
    "        DI1_ticker=DI1_ticker, \n",
    "        DI2_ticker=DI2_ticker, \n",
    "        first_leg=first_leg, \n",
    "        second_leg=second_leg,\n",
    "        dist_expiry=dist_expiry, \n",
    "        method=\"normal\"\n",
    "    )\n",
    "\n",
    "    ibov_current = ibov_arb.price_IBOV(comp_ibov=composic_ibov, redutor=redutor)\n",
    "    future_ibov_mkt = ibov_arb.get_price(current_ibov_fut)\n",
    "    predicted_price = round(ibov_current * risk_free_factor, 2)\n",
    "\n",
    "    clear_output(wait=True)\n",
    "    print(f\"Spot IBOV: {ibov_current}\")\n",
    "    print(f\"Predicted Price: {predicted_price}\")\n",
    "    print(f\"Market Future Price: {future_ibov_mkt}\\n\")\n",
    "    print(f\"Current Diff % -> {round(((future_ibov_mkt/predicted_price) - 1)*100, 4)}%\")\n",
    "    print(f\"Current Diff Points -> {round((future_ibov_mkt-predicted_price), 2)}\")\n",
    "    time.sleep(0.5)"
   ]
  }
 ],
 "metadata": {
  "kernelspec": {
   "display_name": "base",
   "language": "python",
   "name": "python3"
  },
  "language_info": {
   "codemirror_mode": {
    "name": "ipython",
    "version": 3
   },
   "file_extension": ".py",
   "mimetype": "text/x-python",
   "name": "python",
   "nbconvert_exporter": "python",
   "pygments_lexer": "ipython3",
   "version": "3.9.7"
  }
 },
 "nbformat": 4,
 "nbformat_minor": 2
}
